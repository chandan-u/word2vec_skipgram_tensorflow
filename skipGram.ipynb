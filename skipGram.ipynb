{
 "cells": [
  {
   "cell_type": "markdown",
   "metadata": {},
   "source": [
    "# In this project we will try to build  and train a skip gram model to obtain vectors for words in the dataset: (word2vec)\n"
   ]
  },
  {
   "cell_type": "code",
   "execution_count": 2,
   "metadata": {
    "scrolled": true
   },
   "outputs": [
    {
     "data": {
      "text/html": [
       "<div>\n",
       "<style>\n",
       "    .dataframe thead tr:only-child th {\n",
       "        text-align: right;\n",
       "    }\n",
       "\n",
       "    .dataframe thead th {\n",
       "        text-align: left;\n",
       "    }\n",
       "\n",
       "    .dataframe tbody tr th {\n",
       "        vertical-align: top;\n",
       "    }\n",
       "</style>\n",
       "<table border=\"1\" class=\"dataframe\">\n",
       "  <thead>\n",
       "    <tr style=\"text-align: right;\">\n",
       "      <th></th>\n",
       "      <th>Title</th>\n",
       "      <th>Date</th>\n",
       "      <th>Author</th>\n",
       "      <th>Categories</th>\n",
       "      <th>Post</th>\n",
       "      <th>Post_Length</th>\n",
       "      <th>No_of_outlinks</th>\n",
       "      <th>No_of_inlinks</th>\n",
       "      <th>No_of_comments</th>\n",
       "    </tr>\n",
       "  </thead>\n",
       "  <tbody>\n",
       "    <tr>\n",
       "      <th>0</th>\n",
       "      <td>isight vs. firewire</td>\n",
       "      <td>Jan 30 2004 12:00AM</td>\n",
       "      <td>sean bonner</td>\n",
       "      <td></td>\n",
       "      <td>macfixit has just posted a little  troublesho...</td>\n",
       "      <td>427</td>\n",
       "      <td>2</td>\n",
       "      <td>0</td>\n",
       "      <td>0</td>\n",
       "    </tr>\n",
       "    <tr>\n",
       "      <th>1</th>\n",
       "      <td>idvd help</td>\n",
       "      <td>Jan 30 2004 12:00AM</td>\n",
       "      <td>sean bonner</td>\n",
       "      <td></td>\n",
       "      <td>james over at macmerc has just posted a super...</td>\n",
       "      <td>311</td>\n",
       "      <td>3</td>\n",
       "      <td>0</td>\n",
       "      <td>12</td>\n",
       "    </tr>\n",
       "    <tr>\n",
       "      <th>2</th>\n",
       "      <td>macintosh stories</td>\n",
       "      <td>Jan 30 2004 12:00AM</td>\n",
       "      <td>sean bonner</td>\n",
       "      <td></td>\n",
       "      <td>folklore.org is collecting stories and anecdo...</td>\n",
       "      <td>272</td>\n",
       "      <td>3</td>\n",
       "      <td>0</td>\n",
       "      <td>0</td>\n",
       "    </tr>\n",
       "  </tbody>\n",
       "</table>\n",
       "</div>"
      ],
      "text/plain": [
       "                  Title                 Date       Author Categories  \\\n",
       "0  isight vs. firewire   Jan 30 2004 12:00AM  sean bonner              \n",
       "1            idvd help   Jan 30 2004 12:00AM  sean bonner              \n",
       "2    macintosh stories   Jan 30 2004 12:00AM  sean bonner              \n",
       "\n",
       "                                                Post Post_Length  \\\n",
       "0   macfixit has just posted a little  troublesho...         427   \n",
       "1   james over at macmerc has just posted a super...         311   \n",
       "2   folklore.org is collecting stories and anecdo...         272   \n",
       "\n",
       "  No_of_outlinks No_of_inlinks No_of_comments  \n",
       "0              2             0              0  \n",
       "1              3             0             12  \n",
       "2              3             0              0  "
      ]
     },
     "execution_count": 2,
     "metadata": {},
     "output_type": "execute_result"
    }
   ],
   "source": [
    "import pandas as pd\n",
    "data = pd.read_csv(\"../datasets/posts.csv\" )\n",
    "\n",
    "data.head(3)"
   ]
  },
  {
   "cell_type": "markdown",
   "metadata": {},
   "source": [
    "Extract features:\n",
    "(for every word with a window of size 2)\n",
    "\n",
    "Ex sentence: relationships can be a tressure.\n",
    "(relationships, can)\n",
    "(relationships, be)\n",
    "(can, relationships)\n",
    "(can, be)\n"
   ]
  },
  {
   "cell_type": "code",
   "execution_count": 3,
   "metadata": {
    "collapsed": true
   },
   "outputs": [],
   "source": [
    "word_tuples = []\n",
    "def genTuples(tokens, window_size = 2):\n",
    "    for index, token in enumerate(tokens):\n",
    "        start = index-window_size\n",
    "        end = index+window_size+1 if index+window_size+1 <= len(tokens)  else len(tokens)\n",
    "        for neighbor in range(start, end):\n",
    "            if(neighbor!= index and neighbor>=0):\n",
    "                word_tuples.append((token, tokens[neighbor]))\n",
    "    return"
   ]
  },
  {
   "cell_type": "markdown",
   "metadata": {},
   "source": [
    "## clean the features:"
   ]
  },
  {
   "cell_type": "code",
   "execution_count": 4,
   "metadata": {},
   "outputs": [
    {
     "name": "stdout",
     "output_type": "stream",
     "text": [
      "exception occured : 4\n",
      "total word tuples generated:  2269436\n",
      "[('macfixit', 'posted'), ('macfixit', 'little'), ('posted', 'macfixit')] ...\n"
     ]
    }
   ],
   "source": [
    "# create a dict of unigrams and assign an id\n",
    "word_index = {}\n",
    "token_unique_id=0\n",
    "\n",
    "\n",
    "# tokenize : sentence level(.) and word level(\" \")    \n",
    "from nltk.tokenize import sent_tokenize    \n",
    "from nltk.tokenize import word_tokenize\n",
    "from nltk.corpus import stopwords\n",
    "stop_words = set(stopwords.words('english'))\n",
    "\n",
    "import re\n",
    "import string\n",
    "regex = re.compile('[%s]' % re.escape(string.punctuation))\n",
    "\n",
    "\n",
    "# tokenize docs and skip unecessary words\n",
    "tokenized_docs = []\n",
    "exceptions = 0\n",
    "for doc in data[\"Post\"]:    \n",
    "    try:\n",
    "        for sentence in sent_tokenize(doc):\n",
    "            #tokenized_docs.append(map(str.lower, filter(lambda word: word not in stop_words  ,word_tokenize(sentence))))\n",
    "            \n",
    "            # lower strings\n",
    "            tokens = map(str.lower, word_tokenize(sentence))\n",
    "            \n",
    "            # remove stopwords\n",
    "            tokens = filter(lambda word: word not in stop_words, tokens)\n",
    "            \n",
    "            #remove punctuation\n",
    "            tokens =  map(lambda token:regex.sub('', token), tokens)  \n",
    "            \n",
    "            #filter empty strings\n",
    "            tokens = filter(lambda token: token != '', tokens )\n",
    "            \n",
    "            \n",
    "            #tokenized_docs\n",
    "            tokenized_docs.append(tokens)  \n",
    "            \n",
    "            # create unique id for new tokens:\n",
    "            for token in tokens:\n",
    "                if token not in word_index.keys():\n",
    "                    token_unique_id +=1\n",
    "                    word_index[token] = token_unique_id  \n",
    "            \n",
    "            # create word tuples for the sentence: default window size:2\n",
    "            genTuples(tokens, window_size=2)\n",
    "    except :        \n",
    "        exceptions=exceptions + 1\n",
    "        continue\n",
    "print \"exception occured :\", exceptions  \n",
    "\n",
    "\n",
    "# remove punctuations in words using regular expressions package re:\n",
    "\n",
    "\n",
    "# for sentence_index, tokens in enumerate(tokenized_docs):\n",
    "#     new_tokens = []\n",
    "#     for token in tokens:\n",
    "#         new_token = regex.sub('', token)       \n",
    "#         if not new_token == '':\n",
    "#             if new_token not in word_index.keys():\n",
    "#                 token_unique_id +=1\n",
    "#                 word_index[new_token] = token_unique_id\n",
    "#             new_tokens.append(new_token)\n",
    "#     tokenized_docs[sentence_index] = new_tokens\n",
    "\n",
    "# create word_tuple features (x,y)\n",
    "\n",
    "\n",
    "#map(genTuples, tokenized_docs) \n",
    "print \"total word tuples generated: \", len(word_tuples)\n",
    "print word_tuples[0:3], \"...\"               \n"
   ]
  },
  {
   "cell_type": "code",
   "execution_count": null,
   "metadata": {
    "collapsed": true
   },
   "outputs": [],
   "source": []
  },
  {
   "cell_type": "markdown",
   "metadata": {},
   "source": [
    "## Using LowLevel TensorFlow Core to build the Skip-Gram Model:\n",
    "\n"
   ]
  },
  {
   "cell_type": "code",
   "execution_count": 5,
   "metadata": {
    "collapsed": true
   },
   "outputs": [],
   "source": [
    "import tensorflow as tf\n",
    "import numpy as np\n",
    "\n",
    "def feedForward(X, W1, W2):\n",
    "    \"\"\"\n",
    "       compute the forward propgation of the network and,\n",
    "       return the ouput of the network\n",
    "    \"\"\"\n",
    "    \n",
    "    h1 = tf.matmul(X,W1)\n",
    "    \n",
    "    h2 = tf.matmul(h1, W2)\n",
    "    \n",
    "    return tf.nn.softmax(h2)\n",
    "    \n",
    "    \n",
    "def word2Vec(word_tuples, word_index, hidden_dim = 300):  \n",
    "    \n",
    "    input_dim = len(word_index.keys())\n",
    "    out_dim = len(word_index.keys())\n",
    "    \n",
    "    print \"input dim: \", input_dim\n",
    "    print \"output dim:\", out_dim\n",
    "    \n",
    "    \n",
    "    # placeholders for the graph\n",
    "    X = tf.placeholder(\"float\", shape= [None, input_dim])\n",
    "    Y = tf.placeholder(\"float\", shape= [None, out_dim])\n",
    "    \n",
    "    \n",
    "    \n",
    "    # Trainable variables of the graph\n",
    "    # initialize weights for the synapses between input and hidden layer:\n",
    "    # d * k dimensions for d dimensional input and k hidden neurons\n",
    "    \n",
    "    w1 = tf.Variable(tf.random_normal(shape = [input_dim, hidden_dim]))\n",
    "    w2 = tf.Variable(tf.random_normal(shape = [hidden_dim, out_dim]))\n",
    "    \n",
    "    \n",
    "    # feedForward: mat mul of X*w1*w2    \n",
    "    output = feedForward(X, w1, w2)\n",
    "\n",
    "    \n",
    "    # COST FUNCTION/ LOSS\n",
    "    \n",
    "    loss = tf.reduce_mean(tf.nn.softmax_cross_entropy_with_logits(labels=Y, logits=output))\n",
    "    \n",
    "    # gradient to update weights:\n",
    "    optimizer = tf.train.GradientDescentOptimizer(0.01)\n",
    "    train = optimizer.minimize(loss)\n",
    "    \n",
    "\n",
    "    # run sgd \n",
    "    sess = tf.Session()\n",
    "    init = tf.global_variables_initializer()\n",
    "    sess.run(init)  # all variables:weights will be reset to default/original\n",
    "    \n",
    "    \n",
    "    # for each epoch:\n",
    "    for epoch in range(1,3):\n",
    "        \n",
    "        # iterate for each example: \n",
    "        for i in range(len(word_tuples)):\n",
    "            \n",
    "            # encode the word_tuple with vectors using the above id(one hot encoding):\n",
    "            x,y = word_tuples[i]\n",
    "            x_id = word_index[x]\n",
    "            y_id = word_index[y]\n",
    "            \n",
    "            train_x = np.zeros(shape=(1,input_dim))\n",
    "            train_y = np.zeros(shape=(1,out_dim))\n",
    "            train_x[0][x_id] = 1\n",
    "            train_y[0][y_id] = 1\n",
    "            \n",
    "            sess.run(train, {X: train_x, Y: train_y})\n",
    "            \n",
    "            \n",
    "        \n",
    "        # accuracy/loss for each epoch:\n",
    "        print \"Epoch :\", epoch, \" loss is\"\n",
    "        print(tf.reduce_mean(sess.run(loss, {X: train_x, Y: train_y})))\n",
    "        "
   ]
  },
  {
   "cell_type": "code",
   "execution_count": null,
   "metadata": {},
   "outputs": [
    {
     "name": "stdout",
     "output_type": "stream",
     "text": [
      "input dim:  50344\n",
      "output dim: 50344\n"
     ]
    }
   ],
   "source": [
    "word2Vec(word_tuples, word_index, hidden_dim = 300)"
   ]
  },
  {
   "cell_type": "markdown",
   "metadata": {
    "collapsed": true
   },
   "source": [
    "## Using the Tensorflow High Level Api: tf.contrib"
   ]
  },
  {
   "cell_type": "markdown",
   "metadata": {
    "collapsed": true
   },
   "source": [
    "## Extending the TensorFlow : tf.estimator class"
   ]
  }
 ],
 "metadata": {
  "kernelspec": {
   "display_name": "Python 2",
   "language": "python",
   "name": "python2"
  },
  "language_info": {
   "codemirror_mode": {
    "name": "ipython",
    "version": 2
   },
   "file_extension": ".py",
   "mimetype": "text/x-python",
   "name": "python",
   "nbconvert_exporter": "python",
   "pygments_lexer": "ipython2",
   "version": "2.7.10"
  },
  "toc": {
   "toc_cell": false,
   "toc_number_sections": false,
   "toc_threshold": "1",
   "toc_window_display": false
  }
 },
 "nbformat": 4,
 "nbformat_minor": 2
}
